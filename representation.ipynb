{
 "cells": [
  {
   "cell_type": "code",
   "execution_count": 36,
   "metadata": {},
   "outputs": [],
   "source": [
    "# Representation Learning - November 2017\n",
    "\n",
    "import numpy as np\n",
    "import scipy as sp\n",
    "import scipy.optimize as opt\n",
    "import numpy.linalg as alg\n",
    "from math import pi"
   ]
  },
  {
   "cell_type": "code",
   "execution_count": 127,
   "metadata": {},
   "outputs": [
    {
     "name": "stdout",
     "output_type": "stream",
     "text": [
      "[1 3]\n"
     ]
    }
   ],
   "source": [
    "# Sets parameters and constructs data set\n",
    "\n",
    "set_size = 100\n",
    "Y_dim = 10\n",
    "sigma = 0.1\n",
    "\n",
    "A = np.random.uniform(0, 1, size = (Y_dim,2))\n",
    "I = np.eye(Y_dim)\n",
    "O1 = np.ones((Y_dim, 1))\n",
    "O2 = np.transpose(O1)\n",
    "\n",
    "X = np.linspace(0, 4*pi, set_size)\n",
    "Y = np.zeros((set_size, Y_dim))\n",
    "\n",
    "for i in range(set_size):\n",
    "    Y[i][:] = f_lin(f_non_lin(X[i]))\n",
    "\n",
    "B = np.array([[1, 7], [3, 42]])\n"
   ]
  },
  {
   "cell_type": "code",
   "execution_count": 28,
   "metadata": {},
   "outputs": [],
   "source": [
    "# Creates functions\n",
    "\n",
    "def f_non_lin(x):\n",
    "    result = np.array([x*np.sin(x), x*np.cos(x)])\n",
    "    return result\n",
    "\n",
    "def f_lin(x):\n",
    "    x = x.reshape(-1,1)\n",
    "    result = np.dot(np.transpose(x),np.transpose(A))\n",
    "    return result"
   ]
  },
  {
   "cell_type": "code",
   "execution_count": 153,
   "metadata": {},
   "outputs": [],
   "source": [
    "# Optimization part - Assuming f is a R to R^10 mapping\n",
    "\n",
    "def fun(W, *args):\n",
    "    \n",
    "    # Be sure that all vectors have matrix dimensions\n",
    "    Y = args[0]\n",
    "    W = W.reshape(-1,1)\n",
    "    Y = Y.reshape(-1,1)\n",
    "    #print(Y.shape)\n",
    "    #print(W.shape)\n",
    "    \n",
    "    matrix = np.dot(W, np.transpose(W)) + sigma**2*I\n",
    "    result = 0.5*Y_dim*np.log(2*pi) + 0.5*np.log(alg.det(matrix)) + 0.5*np.dot(np.transpose(Y), np.dot(alg.inv(matrix), Y))\n",
    "    result = result[0][0]\n",
    "    return result\n",
    "    \n",
    "def gradient_fun(W, *args):\n",
    "    \n",
    "    # Be sure that all vectors have matrix dimensions\n",
    "    Y = args[0]\n",
    "    W = W.reshape(-1,1)\n",
    "    Y = Y.reshape(-1,1)\n",
    "    #print(Y.shape)\n",
    "    #print(W.shape)\n",
    "    \n",
    "    matrix = np.dot(W, np.transpose(W)) + sigma**2*I\n",
    "    matrix_inv = alg.inv(matrix)\n",
    "    one = np.dot(O1, np.transpose(W)) + np.dot(W, O2)\n",
    "    \n",
    "    result = np.zeros(Y_dim)\n",
    "    \n",
    "    for i in range(Y_dim):\n",
    "        K = np.zeros((Y_dim, Y_dim))\n",
    "        W = np.reshape(W, Y_dim)\n",
    "        K[i,:] += W\n",
    "        K[:,i] += W\n",
    "        W = W.reshape(-1,1)\n",
    "        result[i] = 0.5*np.trace(np.dot(matrix_inv, K)) - 0.5*np.dot(np.transpose(Y), np.dot(matrix_inv, np.dot(K, np.dot(matrix_inv, Y))))\n",
    "    \n",
    "    # WARNING result should be a vector since it is the gradient of a scalar function \n",
    "    return result"
   ]
  },
  {
   "cell_type": "code",
   "execution_count": 154,
   "metadata": {},
   "outputs": [
    {
     "name": "stdout",
     "output_type": "stream",
     "text": [
      "Warning: Desired error not necessarily achieved due to precision loss.\n",
      "         Current function value: -12.307323\n",
      "         Iterations: 9\n",
      "         Function evaluations: 38\n",
      "         Gradient evaluations: 26\n"
     ]
    },
    {
     "data": {
      "text/plain": [
       "array([ 0.0946543 ,  0.12007603,  0.03616506,  0.07374981,  0.04893288,\n",
       "        0.09724907,  0.09342524,  0.07636402,  0.04259373,  0.10741454])"
      ]
     },
     "execution_count": 154,
     "metadata": {},
     "output_type": "execute_result"
    }
   ],
   "source": [
    "# Perfoms optimization\n",
    "\n",
    "x0 = np.ones(10)\n",
    "args = (Y[1], Y[1])\n",
    "\n",
    "opt.fmin_cg(fun, x0, fprime = gradient_fun, args = args)"
   ]
  }
 ],
 "metadata": {
  "kernelspec": {
   "display_name": "Python 2",
   "language": "python",
   "name": "python2"
  },
  "language_info": {
   "codemirror_mode": {
    "name": "ipython",
    "version": 2
   },
   "file_extension": ".py",
   "mimetype": "text/x-python",
   "name": "python",
   "nbconvert_exporter": "python",
   "pygments_lexer": "ipython2",
   "version": "2.7.12"
  }
 },
 "nbformat": 4,
 "nbformat_minor": 2
}
